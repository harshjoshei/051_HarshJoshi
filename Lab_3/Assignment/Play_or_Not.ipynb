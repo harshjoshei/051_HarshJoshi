{
  "nbformat": 4,
  "nbformat_minor": 0,
  "metadata": {
    "colab": {
      "name": "Play_or_Not.ipynb",
      "provenance": [],
      "collapsed_sections": [],
      "include_colab_link": true
    },
    "kernelspec": {
      "display_name": "Python 3",
      "language": "python",
      "name": "python3"
    },
    "language_info": {
      "codemirror_mode": {
        "name": "ipython",
        "version": 3
      },
      "file_extension": ".py",
      "mimetype": "text/x-python",
      "name": "python",
      "nbconvert_exporter": "python",
      "pygments_lexer": "ipython3",
      "version": "3.8.5"
    }
  },
  "cells": [
    {
      "cell_type": "markdown",
      "metadata": {
        "id": "view-in-github",
        "colab_type": "text"
      },
      "source": [
        "<a href=\"https://colab.research.google.com/github/harshjoshei/051_HarshJoshi/blob/main/Lab_3/Assignment/Play_or_Not.ipynb\" target=\"_parent\"><img src=\"https://colab.research.google.com/assets/colab-badge.svg\" alt=\"Open In Colab\"/></a>"
      ]
    },
    {
      "cell_type": "code",
      "metadata": {
        "colab": {
          "base_uri": "https://localhost:8080/"
        },
        "id": "w4c8g1fWTZ3e",
        "outputId": "af16a75a-40dd-4f94-d118-18281515a811"
      },
      "source": [
        "from google.colab import drive\n",
        "drive.mount(\"/content/drive\")"
      ],
      "execution_count": 1,
      "outputs": [
        {
          "output_type": "stream",
          "name": "stdout",
          "text": [
            "Mounted at /content/drive\n"
          ]
        }
      ]
    },
    {
      "cell_type": "code",
      "metadata": {
        "id": "aIfKMnlLTdCK"
      },
      "source": [
        "import numpy as np\n",
        "import pandas as pd\n",
        "import matplotlib.pyplot as plt\n",
        "from sklearn import datasets, preprocessing\n",
        "from sklearn.naive_bayes import GaussianNB, MultinomialNB"
      ],
      "execution_count": 2,
      "outputs": []
    },
    {
      "cell_type": "markdown",
      "metadata": {
        "id": "4qd1mhUEaj7W"
      },
      "source": [
        "# Roll No :- **51** | Task Performed on Dataset2.csv"
      ]
    },
    {
      "cell_type": "code",
      "metadata": {
        "colab": {
          "base_uri": "https://localhost:8080/"
        },
        "id": "7BIK-nHLUEd5",
        "outputId": "59ae2bb7-ae3c-486f-9caf-5d22d7afbfba"
      },
      "source": [
        "# reading data into main_data\n",
        "\n",
        "main_data = pd.read_csv(\"/content/drive/MyDrive/DatasetsForLab/Dataset2.csv\")\n",
        "\n",
        "# labelEncoder Object\n",
        "label_encoder = preprocessing.LabelEncoder()\n",
        "\n",
        "for data in main_data:\n",
        "  print(f\"\\n\\nHeading :- {data}\")\n",
        "  print(list(main_data[data]))\n",
        "  main_data[data] = label_encoder.fit_transform(main_data[data])\n",
        "  print(f\"\\n\\nAfter the tranformation of {data}\")\n",
        "  print(list(main_data[data]))"
      ],
      "execution_count": 3,
      "outputs": [
        {
          "output_type": "stream",
          "name": "stdout",
          "text": [
            "\n",
            "\n",
            "Heading :- Outlook\n",
            "['R', 'R', 'O', 'S', 'S', 'S', 'O', 'R', 'R', 'S', 'R', 'O', 'O', 'S']\n",
            "\n",
            "\n",
            "After the tranformation of Outlook\n",
            "[1, 1, 0, 2, 2, 2, 0, 1, 1, 2, 1, 0, 0, 2]\n",
            "\n",
            "\n",
            "Heading :- Temp\n",
            "['H', 'H', 'H', 'M', 'M', 'M', 'C', 'C', 'C', 'M', 'M', 'M', 'H', 'M']\n",
            "\n",
            "\n",
            "After the tranformation of Temp\n",
            "[1, 1, 1, 2, 2, 2, 0, 0, 0, 2, 2, 2, 1, 2]\n",
            "\n",
            "\n",
            "Heading :- Wind\n",
            "['F', 'T', 'F', 'F', 'F', 'T', 'T', 'F', 'F', 'F', 'T', 'T', 'F', 'T']\n",
            "\n",
            "\n",
            "After the tranformation of Wind\n",
            "[0, 1, 0, 0, 0, 1, 1, 0, 0, 0, 1, 1, 0, 1]\n",
            "\n",
            "\n",
            "Heading :- Humidity\n",
            "['Normal', 'High', 'Normal', 'Normal', 'Normal', 'Low', 'Normal', 'Normal', 'Low', 'High', 'High', 'Low', 'Normal', 'Normal']\n",
            "\n",
            "\n",
            "After the tranformation of Humidity\n",
            "[2, 0, 2, 2, 2, 1, 2, 2, 1, 0, 0, 1, 2, 2]\n",
            "\n",
            "\n",
            "Heading :- Class\n",
            "['N', 'N', 'Y', 'N', 'Y', 'Y', 'Y', 'Y', 'Y', 'Y', 'Y', 'Y', 'Y', 'N']\n",
            "\n",
            "\n",
            "After the tranformation of Class\n",
            "[0, 0, 1, 0, 1, 1, 1, 1, 1, 1, 1, 1, 1, 0]\n"
          ]
        }
      ]
    },
    {
      "cell_type": "code",
      "metadata": {
        "colab": {
          "base_uri": "https://localhost:8080/"
        },
        "id": "ZgOElmnbXIWT",
        "outputId": "319338fc-c82b-4bfd-caae-7e2029c40059"
      },
      "source": [
        "# now zip all the features of atmosphere\n",
        "\n",
        "combined_features = tuple(zip(main_data[\"Outlook\"], main_data[\"Temp\"], main_data[\"Wind\"], main_data[\"Humidity\"]))\n",
        "print(\"After combined!\")\n",
        "\n",
        "print(\"Outlook, Temp, Wind, Humidity\\n\\n\")\n",
        "for pair in combined_features:\n",
        "    print(pair)"
      ],
      "execution_count": 4,
      "outputs": [
        {
          "output_type": "stream",
          "name": "stdout",
          "text": [
            "After combined!\n",
            "Outlook, Temp, Wind, Humidity\n",
            "\n",
            "\n",
            "(1, 1, 0, 2)\n",
            "(1, 1, 1, 0)\n",
            "(0, 1, 0, 2)\n",
            "(2, 2, 0, 2)\n",
            "(2, 2, 0, 2)\n",
            "(2, 2, 1, 1)\n",
            "(0, 0, 1, 2)\n",
            "(1, 0, 0, 2)\n",
            "(1, 0, 0, 1)\n",
            "(2, 2, 0, 0)\n",
            "(1, 2, 1, 0)\n",
            "(0, 2, 1, 1)\n",
            "(0, 1, 0, 2)\n",
            "(2, 2, 1, 2)\n"
          ]
        }
      ]
    },
    {
      "cell_type": "markdown",
      "metadata": {
        "id": "E2x6ToZPaFyi"
      },
      "source": [
        "## Roll Number is **51**:- DataSet2, train test split (90% - 10%)"
      ]
    },
    {
      "cell_type": "code",
      "metadata": {
        "colab": {
          "base_uri": "https://localhost:8080/"
        },
        "id": "gb-X57r5YwtC",
        "outputId": "e0ba2173-b49f-4f52-a73e-768c41f55762"
      },
      "source": [
        "# train test division 90% - 10% for batch 50-75\n",
        "from sklearn.model_selection import train_test_split\n",
        "\n",
        "X_train, X_test, Y_train, Y_test = train_test_split(combined_features, main_data[\"Class\"], test_size = 0.10, random_state = 54)\n",
        "\n",
        "# create model\n",
        "model = MultinomialNB()\n",
        "model.fit(X_train, Y_train)\n",
        "\n",
        "# Predict Y from X_text\n",
        "Y_predicted = model.predict(X_test)\n",
        "\n",
        "print(Y_predicted)\n",
        "\n"
      ],
      "execution_count": 5,
      "outputs": [
        {
          "output_type": "stream",
          "name": "stdout",
          "text": [
            "[1 1]\n"
          ]
        }
      ]
    },
    {
      "cell_type": "code",
      "metadata": {
        "colab": {
          "base_uri": "https://localhost:8080/"
        },
        "id": "yYgg7Qzgasiv",
        "outputId": "7952ea09-02bb-460d-cc39-9391c7c798af"
      },
      "source": [
        "from sklearn import metrics\n",
        "\n",
        "print(f\"Accuracy is :- {metrics.accuracy_score(Y_test, Y_predicted)}\")"
      ],
      "execution_count": 6,
      "outputs": [
        {
          "output_type": "stream",
          "name": "stdout",
          "text": [
            "Accuracy is :- 1.0\n"
          ]
        }
      ]
    },
    {
      "cell_type": "code",
      "metadata": {
        "colab": {
          "base_uri": "https://localhost:8080/"
        },
        "id": "VfnN9McPewK2",
        "outputId": "5dae46e6-7f9c-41b6-ba58-3dbb5191ce56"
      },
      "source": [
        "# print precision and recall\n",
        "from sklearn.metrics import precision_score\n",
        "from sklearn.metrics import recall_score\n",
        "\n",
        "\n",
        "precision = precision_score(Y_test, Y_predicted)\n",
        "recall = recall_score(Y_test, Y_predicted)\n",
        "\n",
        "\n",
        "print(f\"precision :- {precision}\")\n",
        "print(f\"recall :- {recall}\")"
      ],
      "execution_count": 7,
      "outputs": [
        {
          "output_type": "stream",
          "name": "stdout",
          "text": [
            "precision :- 1.0\n",
            "recall :- 1.0\n"
          ]
        }
      ]
    },
    {
      "cell_type": "code",
      "metadata": {
        "colab": {
          "base_uri": "https://localhost:8080/"
        },
        "id": "oWUSSiB8bpSq",
        "outputId": "e3e1b412-28ed-4a5c-ae4a-13d90b520b56"
      },
      "source": [
        "# Excersice\n",
        "# Task1\n",
        "\n",
        "# Temp = \"Hot\" and Weather = \"overcast\"\n",
        "\n",
        "output = model.predict([[0, 1, 1, 2]])\n",
        "print(f\"final prediction :- {output}\")"
      ],
      "execution_count": 8,
      "outputs": [
        {
          "output_type": "stream",
          "name": "stdout",
          "text": [
            "final prediction :- [1]\n"
          ]
        }
      ]
    },
    {
      "cell_type": "code",
      "metadata": {
        "colab": {
          "base_uri": "https://localhost:8080/"
        },
        "id": "giL6nNttcnYs",
        "outputId": "26c641e2-845a-40b0-85b0-880326e3f02c"
      },
      "source": [
        "# Excersice\n",
        "# Task1\n",
        "\n",
        "# Temp = \"Mild\" and Weather = \"sunny\"\n",
        "\n",
        "output = model.predict([[2, 2, 1, 2]])\n",
        "print(f\"final prediction :- {output}\")"
      ],
      "execution_count": 9,
      "outputs": [
        {
          "output_type": "stream",
          "name": "stdout",
          "text": [
            "final prediction :- [1]\n"
          ]
        }
      ]
    }
  ]
}