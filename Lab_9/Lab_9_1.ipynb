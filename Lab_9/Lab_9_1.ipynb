{
  "nbformat": 4,
  "nbformat_minor": 0,
  "metadata": {
    "colab": {
      "name": "Lab_9_1.ipynb",
      "provenance": [],
      "collapsed_sections": []
    },
    "kernelspec": {
      "name": "python3",
      "display_name": "Python 3"
    },
    "language_info": {
      "name": "python"
    },
    "accelerator": "GPU"
  },
  "cells": [
    {
      "cell_type": "markdown",
      "metadata": {
        "id": "MyUaa2RkuxWf"
      },
      "source": [
        "## SVM classifier on MNIST dataset, compare the preformance of linear, polynomial and RBF kernels."
      ]
    },
    {
      "cell_type": "code",
      "metadata": {
        "id": "n0tKI68bu0C1"
      },
      "source": [
        "import sys, os\n",
        "import numpy as np\n",
        "import matplotlib.pyplot as plt\n",
        "from sklearn import svm, metrics\n",
        "from sklearn.datasets import load_digits\n",
        "from tensorflow.keras.datasets import mnist\n",
        "from sklearn.model_selection import train_test_split"
      ],
      "execution_count": 1,
      "outputs": []
    },
    {
      "cell_type": "code",
      "metadata": {
        "id": "PfAc2UP0u88H",
        "colab": {
          "base_uri": "https://localhost:8080/"
        },
        "outputId": "14b30713-6a6a-4420-f83c-3e7c93311837"
      },
      "source": [
        "(features_train, targets_train), (features_test, targets_test) = mnist.load_data()"
      ],
      "execution_count": 2,
      "outputs": [
        {
          "output_type": "stream",
          "name": "stdout",
          "text": [
            "Downloading data from https://storage.googleapis.com/tensorflow/tf-keras-datasets/mnist.npz\n",
            "11493376/11490434 [==============================] - 0s 0us/step\n",
            "11501568/11490434 [==============================] - 0s 0us/step\n"
          ]
        }
      ]
    },
    {
      "cell_type": "code",
      "metadata": {
        "id": "XU6TTKPA7cDe"
      },
      "source": [
        "# Convert to float32.\n",
        "features_train, features_test = np.array(features_train, np.float32), np.array(features_test, np.float32)"
      ],
      "execution_count": 3,
      "outputs": []
    },
    {
      "cell_type": "code",
      "metadata": {
        "id": "VJJQaXpP7jPm"
      },
      "source": [
        "# Flatten images to 1-D vector of 784 features (28*28).\n",
        "num_features=784\n",
        "\n",
        "features_train, features_test = features_train.reshape([-1, num_features]), features_test.reshape([-1, num_features])"
      ],
      "execution_count": 4,
      "outputs": []
    },
    {
      "cell_type": "code",
      "metadata": {
        "id": "afTnZQvd0E8U",
        "colab": {
          "base_uri": "https://localhost:8080/"
        },
        "outputId": "eade7a00-2684-4861-d01a-07983264d25f"
      },
      "source": [
        "# Normalize images value from [0, 255] to [0, 1].\n",
        "features_train, features_test = features_train / 255., features_test / 255\n",
        "\n",
        "print(len(features_train))\n",
        "print(len(features_test))"
      ],
      "execution_count": 5,
      "outputs": [
        {
          "output_type": "stream",
          "name": "stdout",
          "text": [
            "60000\n",
            "10000\n"
          ]
        }
      ]
    },
    {
      "cell_type": "markdown",
      "metadata": {
        "id": "FSWscihevO6X"
      },
      "source": [
        "####Linear SVM Classifier"
      ]
    },
    {
      "cell_type": "code",
      "metadata": {
        "id": "_dN5oHZsvnZd",
        "colab": {
          "base_uri": "https://localhost:8080/"
        },
        "outputId": "33766968-aef9-48bd-baae-dafe87992e37"
      },
      "source": [
        "# Create a linear SVM classifier\n",
        "clf = svm.SVC(kernel='linear')\n",
        "\n",
        "# Train classifier\n",
        "clf.fit(features_train, targets_train)"
      ],
      "execution_count": 6,
      "outputs": [
        {
          "output_type": "execute_result",
          "data": {
            "text/plain": [
              "SVC(C=1.0, break_ties=False, cache_size=200, class_weight=None, coef0=0.0,\n",
              "    decision_function_shape='ovr', degree=3, gamma='scale', kernel='linear',\n",
              "    max_iter=-1, probability=False, random_state=None, shrinking=True,\n",
              "    tol=0.001, verbose=False)"
            ]
          },
          "metadata": {},
          "execution_count": 6
        }
      ]
    },
    {
      "cell_type": "code",
      "metadata": {
        "id": "re8aGYinv-T2"
      },
      "source": [
        "# Make predictions on unseen test data\n",
        "clf_predictions = clf.predict(features_test)"
      ],
      "execution_count": 7,
      "outputs": []
    },
    {
      "cell_type": "code",
      "metadata": {
        "colab": {
          "base_uri": "https://localhost:8080/"
        },
        "id": "xgj0-pcRwaiW",
        "outputId": "a39de858-b88b-43a4-9e2c-98ef044708f1"
      },
      "source": [
        "# Model Accuracy: how often is the classifier correct?\n",
        "print(\"Accuracy:\",metrics.accuracy_score(clf_predictions, targets_test))"
      ],
      "execution_count": 8,
      "outputs": [
        {
          "output_type": "stream",
          "name": "stdout",
          "text": [
            "Accuracy: 0.9404\n"
          ]
        }
      ]
    },
    {
      "cell_type": "markdown",
      "metadata": {
        "id": "FerdXPYavjJu"
      },
      "source": [
        "####RBF SVM Classifier"
      ]
    },
    {
      "cell_type": "code",
      "metadata": {
        "id": "UYbWYEMPwiJO"
      },
      "source": [
        "# Create a rbf SVM classifier\n",
        "clf2 = svm.SVC(kernel='rbf')"
      ],
      "execution_count": 9,
      "outputs": []
    },
    {
      "cell_type": "code",
      "metadata": {
        "colab": {
          "base_uri": "https://localhost:8080/"
        },
        "id": "N-i_hMBIwiNv",
        "outputId": "346b14da-9394-42dc-bd00-6fb223ce76e4"
      },
      "source": [
        "# Train classifier\n",
        "clf2.fit(features_train, targets_train)"
      ],
      "execution_count": 10,
      "outputs": [
        {
          "output_type": "execute_result",
          "data": {
            "text/plain": [
              "SVC(C=1.0, break_ties=False, cache_size=200, class_weight=None, coef0=0.0,\n",
              "    decision_function_shape='ovr', degree=3, gamma='scale', kernel='rbf',\n",
              "    max_iter=-1, probability=False, random_state=None, shrinking=True,\n",
              "    tol=0.001, verbose=False)"
            ]
          },
          "metadata": {},
          "execution_count": 10
        }
      ]
    },
    {
      "cell_type": "code",
      "metadata": {
        "id": "MCWfqLmEwiSm"
      },
      "source": [
        "# Make predictions on unseen test data\n",
        "clf2_predictions = clf2.predict(features_test)"
      ],
      "execution_count": 11,
      "outputs": []
    },
    {
      "cell_type": "code",
      "metadata": {
        "colab": {
          "base_uri": "https://localhost:8080/"
        },
        "id": "BKssGu2OwiYm",
        "outputId": "50c72aa8-cb31-409b-a8e2-8ef96d26df4f"
      },
      "source": [
        "# Model Accuracy: how often is the classifier correct?\n",
        "print(\"Accuracy:\",metrics.accuracy_score(clf2_predictions, targets_test))"
      ],
      "execution_count": 12,
      "outputs": [
        {
          "output_type": "stream",
          "name": "stdout",
          "text": [
            "Accuracy: 0.9792\n"
          ]
        }
      ]
    },
    {
      "cell_type": "markdown",
      "metadata": {
        "id": "1IEzVTT1vbou"
      },
      "source": [
        "####Polynominal SVM Classifier"
      ]
    },
    {
      "cell_type": "code",
      "metadata": {
        "id": "BMJKEky6wg3-"
      },
      "source": [
        "# Create a polynomial SVM classifier\n",
        "clf1 = svm.SVC(kernel='poly')"
      ],
      "execution_count": 13,
      "outputs": []
    },
    {
      "cell_type": "code",
      "metadata": {
        "colab": {
          "base_uri": "https://localhost:8080/"
        },
        "id": "jrbk49WHwhEt",
        "outputId": "3d2f51db-aeab-4255-9e86-79c7fdf6663c"
      },
      "source": [
        "# Train classifier\n",
        "clf1.fit(features_train, targets_train)"
      ],
      "execution_count": 14,
      "outputs": [
        {
          "output_type": "execute_result",
          "data": {
            "text/plain": [
              "SVC(C=1.0, break_ties=False, cache_size=200, class_weight=None, coef0=0.0,\n",
              "    decision_function_shape='ovr', degree=3, gamma='scale', kernel='poly',\n",
              "    max_iter=-1, probability=False, random_state=None, shrinking=True,\n",
              "    tol=0.001, verbose=False)"
            ]
          },
          "metadata": {},
          "execution_count": 14
        }
      ]
    },
    {
      "cell_type": "code",
      "metadata": {
        "id": "wjfMA-u-whN1"
      },
      "source": [
        "# Make predictions on unseen test data\n",
        "clf1_predictions = clf1.predict(features_test)"
      ],
      "execution_count": 15,
      "outputs": []
    },
    {
      "cell_type": "code",
      "metadata": {
        "colab": {
          "base_uri": "https://localhost:8080/"
        },
        "id": "ALwwZ6nMwhUV",
        "outputId": "716d0235-0dcd-49ee-dcdd-bada48bd86c8"
      },
      "source": [
        "# Model Accuracy: how often is the classifier correct?\n",
        "print(\"Accuracy:\",metrics.accuracy_score(clf1_predictions, targets_test))"
      ],
      "execution_count": 16,
      "outputs": [
        {
          "output_type": "stream",
          "name": "stdout",
          "text": [
            "Accuracy: 0.9771\n"
          ]
        }
      ]
    }
  ]
}