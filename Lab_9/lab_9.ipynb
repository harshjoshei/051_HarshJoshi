{
  "nbformat": 4,
  "nbformat_minor": 0,
  "metadata": {
    "colab": {
      "name": "109_lab_9.ipynb",
      "provenance": []
    },
    "kernelspec": {
      "display_name": "Python 3",
      "name": "python3"
    },
    "language_info": {
      "name": "python"
    }
  },
  "cells": [
    {
      "cell_type": "code",
      "metadata": {
        "colab": {
          "background_save": true,
          "base_uri": "https://localhost:8080/"
        },
        "id": "F2N8lSZXCpOQ",
        "outputId": "0e328831-8e5f-4bb9-a011-3adde0661aad"
      },
      "source": [
        "import sys, os\n",
        "import matplotlib.pyplot as plt\n",
        "from sklearn import svm\n",
        "from sklearn.model_selection import train_test_split\n",
        "import numpy as np\n",
        "\n",
        "from tensorflow.keras.datasets import mnist\n",
        "\n",
        "(features_train, targets_train), (features_test, targets_test) = mnist.load_data()\n",
        "# Convert to float32.\n",
        "\n",
        "features_train, features_test = np.array(features_train, np.float32), np.array(features_test, np.float32)\n",
        "\n",
        "# Flatten images to 1-D vector of 784 features (28*28).\n",
        "num_features=784\n",
        "\n",
        "features_train, features_test = features_train.reshape([-1, num_features]), features_test.reshape([-1, num_features])\n",
        "\n",
        "# Normalize images value from [0, 255] to [0, 1].\n",
        "\n",
        "features_train, features_test = features_train / 255., features_test / 255\n",
        "\n",
        "print(len(features_train))\n",
        "print(len(features_test))\n",
        "\n",
        "# Create a linear SVM classifier\n",
        "clf = svm.SVC(kernel='linear')\n",
        "\n",
        "# Train classifier\n",
        "clf.fit(features_train, targets_train)\n",
        "\n",
        "# Make predictions on unseen test data\n",
        "clf_predictions = clf.predict(features_test)\n",
        "\n",
        "print(\"Accuracy: {}%\".format(clf.score(features_test, targets_test) * 100 ))\n",
        "\n",
        "#Import scikit-learn metrics module for accuracy calculation\n",
        "from sklearn import metrics\n",
        "# Model Accuracy: how often is the classifier correct?\n",
        "print(\"Accuracy:\",metrics.accuracy_score(clf_predictions, targets_test))\n",
        "\n",
        "# Create a polynomial SVM classifier\n",
        "clf1 = svm.SVC(kernel='poly')\n",
        "\n",
        "# Train classifier\n",
        "clf1.fit(features_train, targets_train)\n",
        "\n",
        "# Make predictions on unseen test data\n",
        "clf1_predictions = clf1.predict(features_test)\n",
        "\n",
        "#Import scikit-learn metrics module for accuracy calculation\n",
        "from sklearn import metrics\n",
        "# Model Accuracy: how often is the classifier correct?\n",
        "print(\"Accuracy:\",metrics.accuracy_score(clf1_predictions, targets_test))\n",
        "\n",
        "# Create a rbf SVM classifier\n",
        "clf2 = svm.SVC(kernel='rbf')\n",
        "\n",
        "# Train classifier\n",
        "clf2.fit(features_train, targets_train)\n",
        "\n",
        "# Make predictions on unseen test data\n",
        "clf2_predictions = clf2.predict(features_test)\n",
        "\n",
        "#Import scikit-learn metrics module for accuracy calculation\n",
        "from sklearn import metrics\n",
        "# Model Accuracy: how often is the classifier correct?\n",
        "print(\"Accuracy:\",metrics.accuracy_score(clf2_predictions, targets_test))\n",
        "\n",
        "\"\"\"From above result we can say that rbf is better than polinomial and linear\n",
        "#RBF >= Poli > Linear\n",
        "\n",
        "\"\"\"\n"
      ],
      "execution_count": null,
      "outputs": [
        {
          "name": "stdout",
          "output_type": "stream",
          "text": [
            "Downloading data from https://storage.googleapis.com/tensorflow/tf-keras-datasets/mnist.npz\n",
            "11493376/11490434 [==============================] - 0s 0us/step\n",
            "11501568/11490434 [==============================] - 0s 0us/step\n",
            "60000\n",
            "10000\n",
            "Accuracy: 94.04%\n",
            "Accuracy: 0.9404\n",
            "Accuracy: 0.9771\n",
            "Accuracy: 0.9792\n"
          ]
        },
        {
          "data": {
            "application/vnd.google.colaboratory.intrinsic+json": {
              "type": "string"
            },
            "text/plain": [
              "'From above result we can say that rbf is better than polinomial and linear\\n#RBF >= Poli > Linear\\n\\n'"
            ]
          },
          "execution_count": null,
          "metadata": {},
          "output_type": "execute_result"
        }
      ]
    }
  ]
}